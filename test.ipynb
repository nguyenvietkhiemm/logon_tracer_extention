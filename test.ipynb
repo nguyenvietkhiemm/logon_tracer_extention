{
 "cells": [
  {
   "cell_type": "code",
   "execution_count": 61,
   "metadata": {},
   "outputs": [],
   "source": [
    "from neo4j import GraphDatabase\n",
    "import json\n",
    "import csv\n",
    "import ast\n",
    "import re\n",
    "import pandas as pd\n",
    "import requests\n",
    "import os\n",
    "\n",
    "URL_DB = \"bolt://localhost:7687\"  # hoặc IP nếu là máy khác\n",
    "\n",
    "driver = GraphDatabase.driver(URL_DB, auth=(\"neo4j\", \"password\"))"
   ]
  },
  {
   "cell_type": "code",
   "execution_count": 5,
   "metadata": {},
   "outputs": [],
   "source": [
    "# 4624: Successful logon\n",
    "# 4625: Logon failure\n",
    "# 4768: Kerberos Authentication (TGT Request)\n",
    "# 4769: Kerberos Service Ticket (ST Request)\n",
    "# 4776: NTLM Authentication\n",
    "# 4672: Assign special privileges"
   ]
  },
  {
   "cell_type": "code",
   "execution_count": 68,
   "metadata": {},
   "outputs": [
    {
     "name": "stdout",
     "output_type": "stream",
     "text": [
      "Đăng nhập thành công!\n",
      "SUCCESS\n",
      "Kết quả tải lên: SUCCESS, vui lòng chờ một chút cho backend xử lý 😾\n"
     ]
    }
   ],
   "source": [
    "def login_to_flask(server_url, username, password):\n",
    "    login_url = f\"{server_url}/login\"\n",
    "\n",
    "    try:\n",
    "        # 1. Lấy CSRF Token\n",
    "        client = requests.session()  # Sử dụng session để giữ cookie\n",
    "        response = client.get(login_url)\n",
    "        soup = BeautifulSoup(response.content, 'html.parser')\n",
    "        csrf_token = soup.find('input', {'id': 'csrf_token'})['value']\n",
    "\n",
    "        # 2. Gửi yêu cầu POST để đăng nhập\n",
    "        login_data = {\n",
    "            'username': username,\n",
    "            'password': password,\n",
    "            'csrf_token': csrf_token,\n",
    "            'remember': 'y'  # Thêm 'remember' nếu có\n",
    "        }\n",
    "        response = client.post(login_url, data=login_data)\n",
    "\n",
    "        # 3. Kiểm tra đăng nhập thành công\n",
    "        if response.status_code == 200 and \"Invalid username or password\" not in response.text:\n",
    "            print(\"Đăng nhập thành công!\")\n",
    "            return client  # Trả về đối tượng session\n",
    "        else:\n",
    "            print(\"Đăng nhập thất bại. Kiểm tra username/password/CSRF token.\")\n",
    "            return None\n",
    "\n",
    "    except Exception as e:\n",
    "        print(f\"Lỗi: {e}\")\n",
    "        return None\n",
    "\n",
    "\n",
    "def upload_security_evtx(session, server_url, evtx_file_path, timezone, casename, addlog=True, sigmascan=False):\n",
    "    try:\n",
    "        if not os.path.exists(evtx_file_path):\n",
    "            print(f\"Lỗi: File EVTX không tồn tại tại {evtx_file_path}\")\n",
    "            return \"FAIL\", {}\n",
    "\n",
    "        files = {'file0': open(evtx_file_path, 'rb')}\n",
    "        data = {\n",
    "            'timezone': timezone,\n",
    "            'logtype': 'EVTX',\n",
    "            'addlog': 'true' if addlog else 'false',\n",
    "            'sigmascan': 'true' if sigmascan else 'false',\n",
    "            'casename': casename,\n",
    "        }\n",
    "\n",
    "        response = session.post(f\"{server_url}/upload\", files=files, data=data)\n",
    "        cookies = response.cookies.get_dict()\n",
    "\n",
    "        print(response.text)\n",
    "\n",
    "        if response.text == \"SUCCESS\":\n",
    "            return \"SUCCESS\", cookies\n",
    "        else:\n",
    "            print(f\"Lỗi từ server: {response.text}\")\n",
    "            return \"FAIL\", {}\n",
    "\n",
    "    except Exception as e:\n",
    "        print(f\"Lỗi: {e}\")\n",
    "        return \"FAIL\", {}\n",
    "\n",
    "if __name__ == '__main__':\n",
    "    server_url = \"http://localhost:8080\"\n",
    "    username = \"neo4j\"\n",
    "    password = \"password\"\n",
    "\n",
    "    session = login_to_flask(server_url, username, password)\n",
    "    if session:\n",
    "        response = session.get(f\"{server_url}/\")\n",
    "\n",
    "        # evtx_file = r\"D:\\\\_test\\\\logon_tracer\\\\extend\\\\uploads\\\\vuong_Security_vuong.evtx\"\n",
    "        evtx_file = r\"D:\\\\_test\\\\logon_tracer\\\\extend\\\\uploads\\\\khiem_Security_khiem.evtx\"\n",
    "        timezone = 7\n",
    "        casename = \"neo4j\"\n",
    "\n",
    "        result, cookies = upload_security_evtx(session, server_url, evtx_file, timezone, casename)\n",
    "        print(f\"Kết quả tải lên: {result}, vui lòng chờ một chút cho backend xử lý 😾\")\n",
    "    else:\n",
    "        print(\"Không thể đăng nhập.\")\n"
   ]
  },
  {
   "cell_type": "code",
   "execution_count": 66,
   "metadata": {},
   "outputs": [
    {
     "name": "stderr",
     "output_type": "stream",
     "text": [
      "C:\\Users\\Admin\\AppData\\Local\\Temp\\ipykernel_5800\\662155363.py:11: DeprecationWarning: Using a driver after it has been closed is deprecated. Future versions of the driver will raise an error.\n",
      "  with driver.session() as session:\n",
      "C:\\Users\\Admin\\AppData\\Local\\Temp\\ipykernel_5800\\662155363.py:8: DeprecationWarning: `id` is deprecated, use `element_id` instead\n",
      "  nodes_data.append({\"id\": node.id, \"labels\": list(node.labels), \"properties\": properties})\n"
     ]
    },
    {
     "name": "stdout",
     "output_type": "stream",
     "text": [
      "\n",
      "Dữ liệu nodes đã được lưu vào file: ./data/nodes.csv\n"
     ]
    }
   ],
   "source": [
    "def get_all_nodes(tx):\n",
    "    query = \"MATCH (n) RETURN n\"\n",
    "    result = tx.run(query)\n",
    "    nodes_data = []\n",
    "    for record in result:\n",
    "        node = record[\"n\"]\n",
    "        properties = dict(node)\n",
    "        nodes_data.append({\"id\": node.id, \"labels\": list(node.labels), \"properties\": properties})\n",
    "    return nodes_data\n",
    "\n",
    "with driver.session() as session:\n",
    "    all_nodes = session.execute_read(get_all_nodes)\n",
    "\n",
    "json_output = json.dumps(all_nodes, indent=2)\n",
    "\n",
    "csv_file_path = \"./data/nodes.csv\"\n",
    "with open(csv_file_path, 'w', newline='', encoding='utf-8') as csvfile:\n",
    "    fieldnames = [\"id\", \"labels\", \"properties\"]  # Xác định các cột\n",
    "    writer = csv.DictWriter(csvfile, fieldnames=fieldnames)\n",
    "\n",
    "    writer.writeheader()\n",
    "    for node_data in all_nodes:\n",
    "        writer.writerow(node_data)\n",
    "\n",
    "driver.close()\n",
    "\n",
    "print(f\"\\nDữ liệu nodes đã được lưu vào file: {csv_file_path}\")"
   ]
  },
  {
   "cell_type": "code",
   "execution_count": 67,
   "metadata": {},
   "outputs": [
    {
     "name": "stdout",
     "output_type": "stream",
     "text": [
      "\n",
      "Data relationships đã được lưu vào file: ./data/relationships.csv\n"
     ]
    },
    {
     "name": "stderr",
     "output_type": "stream",
     "text": [
      "C:\\Users\\Admin\\AppData\\Local\\Temp\\ipykernel_5800\\3509183309.py:16: DeprecationWarning: Using a driver after it has been closed is deprecated. Future versions of the driver will raise an error.\n",
      "  with driver.session() as session:\n",
      "C:\\Users\\Admin\\AppData\\Local\\Temp\\ipykernel_5800\\3509183309.py:8: DeprecationWarning: `id` is deprecated, use `element_id` instead\n",
      "  \"id\": relationship.id,\n",
      "C:\\Users\\Admin\\AppData\\Local\\Temp\\ipykernel_5800\\3509183309.py:10: DeprecationWarning: `id` is deprecated, use `element_id` instead\n",
      "  \"start_node_id\": relationship.start_node.id,\n",
      "C:\\Users\\Admin\\AppData\\Local\\Temp\\ipykernel_5800\\3509183309.py:11: DeprecationWarning: `id` is deprecated, use `element_id` instead\n",
      "  \"end_node_id\": relationship.end_node.id,\n"
     ]
    }
   ],
   "source": [
    "def get_all_relationships(tx):\n",
    "    query = \"MATCH ()-[r]->() RETURN r\"\n",
    "    result = tx.run(query)\n",
    "    relationships_data = []\n",
    "    for record in result:\n",
    "        relationship = record[\"r\"]\n",
    "        relationships_data.append({\n",
    "            \"id\": relationship.id,\n",
    "            \"type\": relationship.type,\n",
    "            \"start_node_id\": relationship.start_node.id,\n",
    "            \"end_node_id\": relationship.end_node.id,\n",
    "            \"properties\": dict(relationship)\n",
    "        })\n",
    "    return relationships_data\n",
    "\n",
    "with driver.session() as session:\n",
    "    all_relationships = session.execute_read(get_all_relationships)\n",
    "\n",
    "json_output = json.dumps(all_relationships, indent=2)\n",
    "\n",
    "csv_file_path = \"./data/relationships.csv\"\n",
    "with open(csv_file_path, 'w', newline='', encoding='utf-8') as csvfile:\n",
    "    fieldnames = [\"id\", \"type\", \"start_node_id\", \"end_node_id\", \"properties\"]\n",
    "    writer = csv.DictWriter(csvfile, fieldnames=fieldnames)\n",
    "    writer.writeheader()\n",
    "    for relationship_data in all_relationships:\n",
    "        writer.writerow(relationship_data)\n",
    "\n",
    "driver.close()\n",
    "\n",
    "print(f\"\\nData relationships đã được lưu vào file: {csv_file_path}\")"
   ]
  }
 ],
 "metadata": {
  "kernelspec": {
   "display_name": "venv",
   "language": "python",
   "name": "python3"
  },
  "language_info": {
   "codemirror_mode": {
    "name": "ipython",
    "version": 3
   },
   "file_extension": ".py",
   "mimetype": "text/x-python",
   "name": "python",
   "nbconvert_exporter": "python",
   "pygments_lexer": "ipython3",
   "version": "3.11.2"
  }
 },
 "nbformat": 4,
 "nbformat_minor": 2
}
